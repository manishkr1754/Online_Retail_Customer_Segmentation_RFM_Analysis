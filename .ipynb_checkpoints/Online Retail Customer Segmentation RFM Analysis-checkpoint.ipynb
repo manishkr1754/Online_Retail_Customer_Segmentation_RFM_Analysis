{
 "cells": [
  {
   "cell_type": "markdown",
   "id": "f15c4ec5",
   "metadata": {},
   "source": [
    "---\n",
    "\n",
    "<center><h1>Online Retail Customer Segmentation RFM Analysis</h1></center>\n",
    "\n",
    "---"
   ]
  },
  {
   "cell_type": "markdown",
   "id": "ad99be23",
   "metadata": {},
   "source": [
    "## Dataset Description\n",
    "\n",
    "Online retail is a transnational data set which contains all the transactions occurring between 01/12/2010 and 09/12/2011 for a UK-based and registered non-store online retail. The company mainly sells unique all-occasion gifts. Many customers of the company are wholesalers.\n",
    "\n",
    "[Dataset Source](https://archive.ics.uci.edu/dataset/352/online+retail)"
   ]
  },
  {
   "cell_type": "markdown",
   "id": "1958a908",
   "metadata": {},
   "source": [
    "## Business Goal\n",
    "\n",
    "Customer Segmentation based on RFM so that the company can target its customers efficiently."
   ]
  },
  {
   "cell_type": "markdown",
   "id": "ee3fcd75",
   "metadata": {},
   "source": [
    "## Process Flow of Project\n",
    "\n",
    "1. Understanding Problem Statement\n",
    "2. Getting System Ready\n",
    "3. Understanding the Data-Data Eyeballing & Data Description\n",
    "4. Data Cleaning & Preprocessing I\n",
    "5. Exploratory Data Analysis (EDA)\n",
    "6. Insights from Data Visualization\n",
    "7. Feature Engineerig\n",
    "8. Model Buidling & Evaluation\n",
    "9. Selection of Best Model & Hyperparameter Tuninng\n",
    "10. Generating Pickle file"
   ]
  },
  {
   "cell_type": "code",
   "execution_count": null,
   "id": "edeb208d",
   "metadata": {},
   "outputs": [],
   "source": []
  }
 ],
 "metadata": {
  "kernelspec": {
   "display_name": "Python [conda env:root] *",
   "language": "python",
   "name": "conda-root-py"
  },
  "language_info": {
   "codemirror_mode": {
    "name": "ipython",
    "version": 3
   },
   "file_extension": ".py",
   "mimetype": "text/x-python",
   "name": "python",
   "nbconvert_exporter": "python",
   "pygments_lexer": "ipython3",
   "version": "3.9.13"
  }
 },
 "nbformat": 4,
 "nbformat_minor": 5
}
