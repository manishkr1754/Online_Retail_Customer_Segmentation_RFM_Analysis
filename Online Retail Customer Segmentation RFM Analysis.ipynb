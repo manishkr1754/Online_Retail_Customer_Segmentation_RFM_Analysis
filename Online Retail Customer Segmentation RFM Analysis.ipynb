{
 "cells": [
  {
   "cell_type": "markdown",
   "id": "f2f05cfd",
   "metadata": {},
   "source": [
    "<center><h1>Online Retail Customer Segmentation RFM Analysis</h1></center>"
   ]
  },
  {
   "cell_type": "code",
   "execution_count": null,
   "id": "00100f49",
   "metadata": {},
   "outputs": [],
   "source": []
  }
 ],
 "metadata": {
  "kernelspec": {
   "display_name": "Python [conda env:root] *",
   "language": "python",
   "name": "conda-root-py"
  },
  "language_info": {
   "codemirror_mode": {
    "name": "ipython",
    "version": 3
   },
   "file_extension": ".py",
   "mimetype": "text/x-python",
   "name": "python",
   "nbconvert_exporter": "python",
   "pygments_lexer": "ipython3",
   "version": "3.9.13"
  }
 },
 "nbformat": 4,
 "nbformat_minor": 5
}
